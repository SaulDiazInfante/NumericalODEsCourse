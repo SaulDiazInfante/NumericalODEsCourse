{
 "cells": [
  {
   "cell_type": "markdown",
   "metadata": {},
   "source": [
    "# Tarea 02 Entrega Feb 09-2017\n",
    "## 1. Hacer una tabla con todos los tipos primitivos y su descripción del paquete numpy.\n",
    "## 2. Hacer una tabla con las operaciones bitwise y dar al menos un ejemplo de cada operación en una celda de código.\n",
    "## 3. Incluir en figuras distintas, el diagrama de flujo de las estructuras de control if-else, if-elif-else, for y  while.\n",
    "## 4. Incluir la lista de palabras reservadas de Python 2.7 (keywords).\n",
    "## 5. Hacer el diagrama de flujo de la criba de Eratostenes e incluirlo como imagen jpg en una celda separada. Ver e.g. http://primes.utm.edu/prove/prove2_1.html.\n",
    "## 6. Usando el punto anterior, hacer un script de nombre CribaDeEratostenes.py que imprima en pantalla, en forma tabular los primeros $n$ numeros primos (puedes basarte en  http://www.algorithmist.com/index.php/Prime_Sieve_of_Eratosthenes para revisar algoritmo e implementación).\n",
    "## 7. Usar el script del punto anterior para generar la tabla de los primeros 1000 números primos e imprimirlos en una celda Markdown. La salida debe tener el formato mostrado en http://primes.utm.edu/lists/small/1000.txt.\n",
    "## Definición. \n",
    "### Sea $n \\in \\mathbb{N}$, definimos el primorial de $n\\#$ como \n",
    "$$\n",
    "    n\\# = \\prod_{i=1}^{\\pi(n)} p_i\n",
    "$$\n",
    "### donde, $\\scriptstyle\\pi(n)$ es la función contadora de primos y $p_i$ es el $i$-ésimo primo.\n",
    "\n",
    "## Teormea . \n",
    "### Sea $n\\in \\mathbb{N}$ entonces el primorial $n#$ crece asintóticamente de acuerdo a \n",
    "$$ (n\\#) \\sim e^n$$.\n",
    "\n",
    "## 8. Escribir un script que calcule la suma de los logaritmos de todos los primos desde 2 hasta un entero positivo dado $n$, e imprima en forma tabular la suma de los logaritmos de los primos, el numero $n$, y la razón de estas dos cantidades.\n",
    "\n",
    "$n$ |$\\displaystyle \\sum_{i=1}^{\\pi(n)} \\ln p_i$ | $\\displaystyle \\frac{\\displaystyle\\sum_{i=1}^{\\pi(n)} \\ln p_i}{n}$\n",
    ":---|:---------------------------------------|:--------------------------------------------------------------\n",
    "3   |: 1.791759469228055                     |: 0.59725315640935162\n",
    "## Prueba para diferentes valores de $n$. Debe observarce que \n",
    "$$\n",
    "    \\frac{\\displaystyle\\sum_{i=1}^{\\pi(n)} \\ln p_i}{n} \\to 1, \\quad n\\to \\infty.\n",
    "$$"
   ]
  },
  {
   "cell_type": "markdown",
   "metadata": {},
   "source": [
    "# Respuestas"
   ]
  },
  {
   "cell_type": "code",
   "execution_count": null,
   "metadata": {
    "collapsed": true
   },
   "outputs": [],
   "source": []
  },
  {
   "cell_type": "code",
   "execution_count": null,
   "metadata": {
    "collapsed": true
   },
   "outputs": [],
   "source": []
  }
 ],
 "metadata": {
  "kernelspec": {
   "display_name": "Python 2",
   "language": "python",
   "name": "python2"
  },
  "language_info": {
   "codemirror_mode": {
    "name": "ipython",
    "version": 2
   },
   "file_extension": ".py",
   "mimetype": "text/x-python",
   "name": "python",
   "nbconvert_exporter": "python",
   "pygments_lexer": "ipython2",
   "version": "2.7.13"
  }
 },
 "nbformat": 4,
 "nbformat_minor": 0
}
